{
 "cells": [
  {
   "cell_type": "code",
   "execution_count": 1,
   "metadata": {
    "collapsed": true
   },
   "outputs": [],
   "source": [
    "# References\n",
    "# https://machinelearningmastery.com/gentle-introduction-vectors-machine-learning/\n",
    "# https://www.pyimagesearch.com/2014/11/03/display-matplotlib-rgb-image/\n",
    "# https://matplotlib.org/2.0.2/users/image_tutorial.html\n",
    "# http://scikit-image.org/docs/dev/user_guide/numpy_images.html\n",
    "# https://docs.opencv.org/3.0-beta/doc/py_tutorials/py_core/py_basic_ops/py_basic_ops.html\n",
    "# http://effbot.org/imagingbook/concepts.htm\n",
    "# http://nbviewer.jupyter.org/github/PBrockmann/Dodecahedron/blob/master/Dodecahedron.ipynb\n",
    "# http://nbviewer.jupyter.org/gist/minrk/7076095"
   ]
  },
  {
   "cell_type": "code",
   "execution_count": 2,
   "metadata": {
    "collapsed": true
   },
   "outputs": [],
   "source": [
    "# Objective\n",
    "# Load an image from disk or internet\n",
    "# Display the image inline and through viewer\n",
    "# Use CV2, PIL, matplotlib, etc to load the image and manipulate them\n",
    "# Access RGB layer of the image and display them\n",
    "# Muliply the ndarray image with scalar values to see the transformation\n",
    "# Convert image from BGR to RGB or BGRA to BGR to RGB\n",
    "# Concatenate images in axis = 0 and axis = 1\n",
    "# Create a white image of same size as a given image\n",
    "# Load image from internet with and without headers as part of http request\n",
    "# Load image using CV2 and save it using other toolkits like PIL and vice versa"
   ]
  },
  {
   "cell_type": "code",
   "execution_count": 3,
   "metadata": {},
   "outputs": [
    {
     "name": "stdout",
     "output_type": "stream",
     "text": [
      "['', 'C:\\\\ProgramData\\\\Anaconda3\\\\python36.zip', 'C:\\\\ProgramData\\\\Anaconda3\\\\DLLs', 'C:\\\\ProgramData\\\\Anaconda3\\\\lib', 'C:\\\\ProgramData\\\\Anaconda3', 'C:\\\\ProgramData\\\\Anaconda3\\\\lib\\\\site-packages', 'C:\\\\ProgramData\\\\Anaconda3\\\\lib\\\\site-packages\\\\Babel-2.5.0-py3.6.egg', 'C:\\\\ProgramData\\\\Anaconda3\\\\lib\\\\site-packages\\\\win32', 'C:\\\\ProgramData\\\\Anaconda3\\\\lib\\\\site-packages\\\\win32\\\\lib', 'C:\\\\ProgramData\\\\Anaconda3\\\\lib\\\\site-packages\\\\Pythonwin', 'C:\\\\ProgramData\\\\Anaconda3\\\\lib\\\\site-packages\\\\IPython\\\\extensions', 'C:\\\\Users\\\\Alvi\\\\.ipython']\n"
     ]
    }
   ],
   "source": [
    "import os\n",
    "print(os.sys.path)"
   ]
  },
  {
   "cell_type": "code",
   "execution_count": 16,
   "metadata": {},
   "outputs": [
    {
     "data": {
      "text/plain": [
       "'C:\\\\Users\\\\Alvi\\\\Desktop\\\\AI Saturdays\\\\Image Processing Basics'"
      ]
     },
     "execution_count": 16,
     "metadata": {},
     "output_type": "execute_result"
    }
   ],
   "source": [
    "# Images are accessed with relative path. Verify that the images are within the working directory.\n",
    "# Display current working directory\n",
    "import os\n",
    "os.getcwd()"
   ]
  },
  {
   "cell_type": "code",
   "execution_count": 17,
   "metadata": {},
   "outputs": [
    {
     "name": "stdout",
     "output_type": "stream",
     "text": [
      "<class 'numpy.ndarray'>\n",
      "Original Image Shape:  (768, 1024, 3)\n"
     ]
    }
   ],
   "source": [
    "# Demonstrate usage of CV2\n",
    "# View the B G R layers in an Image\n",
    "\n",
    "import cv2\n",
    "import numpy as np\n",
    "\n",
    "original_image = cv2.imread(\"./Images/Inputs/Cat.jpg\")\n",
    "print(type(original_image))\n",
    "print('Original Image Shape: ', original_image.shape)\n",
    "\n",
    "# Show the Original Image (RGB)\n",
    "# CV2 converts the image from BGR to RGB while display\n",
    "cv2.imshow('Original Image',original_image)\n",
    "if cv2.waitKey() & 0xff == 27: quit()\n",
    "\n",
    "# Show the Original Image (BGR)\n",
    "cv2.imshow('Original Image',original_image[:,:,::-1])\n",
    "if cv2.waitKey() & 0xff == 27: quit()\n",
    "\n",
    "# Show the Black Layer\n",
    "cv2.imshow('Original Image (Black Layer)',original_image[:,:,0])\n",
    "if cv2.waitKey() & 0xff == 27: quit()\n",
    "    \n",
    "cv2.imshow('Original Image (Green Layer)',original_image[:,:,1])\n",
    "if cv2.waitKey() & 0xff == 27: quit()\n",
    "\n",
    "cv2.imshow('Original Image (Red Layer)',original_image[:,:,2])\n",
    "if cv2.waitKey() & 0xff == 27: quit()"
   ]
  },
  {
   "cell_type": "code",
   "execution_count": 6,
   "metadata": {
    "collapsed": true
   },
   "outputs": [],
   "source": [
    "# Splitting and merging the image\n",
    "\n",
    "import cv2\n",
    "import numpy as np\n",
    "\n",
    "original_image = cv2.imread(\"./Images/Inputs/Cat.jpg\")\n",
    "b,g,r = cv2.split(original_image)\n",
    "\n",
    "# Show the Original Image (RGB)\n",
    "# CV2 converts the image from BGR to RGB while display\n",
    "cv2.imshow('Original Image',original_image)\n",
    "if cv2.waitKey() & 0xff == 27: quit()\n",
    "\n",
    "# Show the Original Image (BGR)\n",
    "cv2.imshow('Original Image',original_image[:,:,::-1])\n",
    "if cv2.waitKey() & 0xff == 27: quit()\n",
    "\n",
    "# Show the Black Layer\n",
    "cv2.imshow('Original Image (Black Layer)',b)\n",
    "if cv2.waitKey() & 0xff == 27: quit()\n",
    "    \n",
    "cv2.imshow('Original Image (Green Layer)',g)\n",
    "if cv2.waitKey() & 0xff == 27: quit()\n",
    "\n",
    "cv2.imshow('Original Image (Red Layer)',r)\n",
    "if cv2.waitKey() & 0xff == 27: quit()\n",
    "\n",
    "# Reconstruct the image\n",
    "reconstructred_imgage = cv2.merge((b,g,r))\n",
    "cv2.imshow('Reconstructed Image',reconstructred_imgage)\n",
    "if cv2.waitKey() & 0xff == 27: quit()"
   ]
  },
  {
   "cell_type": "code",
   "execution_count": 7,
   "metadata": {},
   "outputs": [
    {
     "name": "stdout",
     "output_type": "stream",
     "text": [
      "<class 'numpy.ndarray'>\n",
      "Original Image Shape:  (768, 1024, 3)\n"
     ]
    }
   ],
   "source": [
    "# Multiply the ndarray with different fractions to see the image change\n",
    "\n",
    "import cv2\n",
    "import numpy as np\n",
    "\n",
    "original_image = cv2.imread(\"./Images/Inputs/Cat.jpg\")\n",
    "print(type(original_image))\n",
    "print('Original Image Shape: ', original_image.shape)\n",
    "\n",
    "# Multiply image ndarray with 2\n",
    "cv2.imshow('Original Image (Multiplied by 2)',original_image*2)\n",
    "if cv2.waitKey() & 0xff == 27: quit()\n",
    "\n",
    "# Multiply image ndarray with 5\n",
    "cv2.imshow('Original Image (Multiplied by 5)',original_image*5)\n",
    "if cv2.waitKey() & 0xff == 27: quit()\n",
    "\n",
    "# Multiply image ndarray with 0.01\n",
    "cv2.imshow('Original Image (Multiplied by 0.01)',original_image*0.01)\n",
    "if cv2.waitKey() & 0xff == 27: quit()"
   ]
  },
  {
   "cell_type": "code",
   "execution_count": 13,
   "metadata": {},
   "outputs": [
    {
     "name": "stdout",
     "output_type": "stream",
     "text": [
      "<class 'numpy.ndarray'>\n",
      "Original Image Shape:  (494, 1081, 3)\n",
      "New Image 1 Shape:  (350, 800, 3)\n",
      "New Image 2 Shape:  (350, 800, 3)\n",
      "New Image 3 Shape:  (700, 800, 3)\n",
      "New Image 4 Shape:  (350, 1600, 3)\n",
      "New Image 5 Shape (Axis = 0):  (988, 1081, 3)\n",
      "New Image 5 Shape (Axis = 0 + 1):  (988, 2162, 3)\n"
     ]
    }
   ],
   "source": [
    "# Demonstrate usage of CV2\n",
    "# Read image using CV2\n",
    "# Print the type and shape of image after reading\n",
    "# Reduce dimension of image by changing ndarray\n",
    "# Visualzie image using CV2\n",
    "# Save image using CV2\n",
    "\n",
    "import cv2\n",
    "import numpy as np\n",
    "\n",
    "original_image = cv2.imread(\"./Images/Inputs/Baron Schwartz.png\")\n",
    "print(type(original_image))\n",
    "print('Original Image Shape: ', original_image.shape)\n",
    "\n",
    "new_image1 = original_image[50:400, 100:900, ]\n",
    "print('New Image 1 Shape: ', new_image1.shape)\n",
    "\n",
    "new_image2 = original_image[0:350, 0:800, ]\n",
    "print('New Image 2 Shape: ', new_image2.shape)\n",
    "\n",
    "cv2.imshow('Original Image',original_image)\n",
    "if cv2.waitKey() & 0xff == 27: quit()\n",
    "    \n",
    "cv2.imshow('New Image 1',new_image1)\n",
    "if cv2.waitKey() & 0xff == 27: quit()\n",
    "\n",
    "cv2.imshow('New Image 2',new_image2)\n",
    "if cv2.waitKey() & 0xff == 27: quit()\n",
    "\n",
    "new_image3 = np.concatenate((new_image1, new_image2), axis=0)\n",
    "print('New Image 3 Shape: ', new_image3.shape)\n",
    "cv2.imshow('New Image 3',new_image3)\n",
    "if cv2.waitKey() & 0xff == 27: quit()\n",
    "\n",
    "new_image4 = np.concatenate((new_image1, new_image2), axis=1)\n",
    "print('New Image 4 Shape: ', new_image4.shape)\n",
    "cv2.imshow('New Image 4',new_image4)\n",
    "if cv2.waitKey() & 0xff == 27: quit()\n",
    "\n",
    "new_image5 = np.concatenate((original_image, original_image), axis=0)\n",
    "print('New Image 5 Shape (Axis = 0): ', new_image5.shape)\n",
    "new_image5 = np.concatenate((new_image5, new_image5), axis=1)\n",
    "print('New Image 5 Shape (Axis = 0 + 1): ', new_image5.shape)\n",
    "cv2.imshow('New Image 5',new_image5)\n",
    "if cv2.waitKey() & 0xff == 27: quit()\n",
    "\n",
    "cv2.imwrite(\"./Images/Outputs/Baron Schwartz CV2 New Image 1.png\", new_image1)\n",
    "cv2.imwrite(\"./Images/Outputs/Baron Schwartz CV2 New Image 2.png\", new_image2)\n",
    "\n",
    "from PIL import Image\n",
    "im = Image.fromarray(new_image3)\n",
    "im.save(\"./Images/Outputs/Baron Schwartz PIL New Image 3.png\")\n",
    "\n",
    "im = Image.fromarray(new_image4)\n",
    "im.save(\"./Images/Outputs/Baron Schwartz PIL New Image 4.png\")\n",
    "\n",
    "im = Image.fromarray(new_image5)\n",
    "im.save(\"./Images/Outputs/Baron Schwartz PIL New Image 5.png\")"
   ]
  },
  {
   "cell_type": "code",
   "execution_count": 18,
   "metadata": {},
   "outputs": [
    {
     "ename": "AttributeError",
     "evalue": "'NoneType' object has no attribute 'shape'",
     "output_type": "error",
     "traceback": [
      "\u001b[1;31m---------------------------------------------------------------------------\u001b[0m",
      "\u001b[1;31mAttributeError\u001b[0m                            Traceback (most recent call last)",
      "\u001b[1;32m<ipython-input-18-500d4e5e69df>\u001b[0m in \u001b[0;36m<module>\u001b[1;34m()\u001b[0m\n\u001b[0;32m      2\u001b[0m \u001b[1;32mimport\u001b[0m \u001b[0mnumpy\u001b[0m \u001b[1;32mas\u001b[0m \u001b[0mnp\u001b[0m\u001b[1;33m\u001b[0m\u001b[0m\n\u001b[0;32m      3\u001b[0m \u001b[0moriginal_image\u001b[0m \u001b[1;33m=\u001b[0m \u001b[0mcv2\u001b[0m\u001b[1;33m.\u001b[0m\u001b[0mimread\u001b[0m\u001b[1;33m(\u001b[0m\u001b[1;34m\"./Images/Inputs/Baron Schwartz.png\"\u001b[0m\u001b[1;33m)\u001b[0m\u001b[1;33m\u001b[0m\u001b[0m\n\u001b[1;32m----> 4\u001b[1;33m \u001b[0mprint\u001b[0m\u001b[1;33m(\u001b[0m\u001b[1;34m'Original Image  Shape : '\u001b[0m\u001b[1;33m,\u001b[0m \u001b[0moriginal_image\u001b[0m\u001b[1;33m.\u001b[0m\u001b[0mshape\u001b[0m\u001b[1;33m)\u001b[0m\u001b[1;33m\u001b[0m\u001b[0m\n\u001b[0m\u001b[0;32m      5\u001b[0m \u001b[1;33m\u001b[0m\u001b[0m\n\u001b[0;32m      6\u001b[0m \u001b[0mnew_image1\u001b[0m \u001b[1;33m=\u001b[0m \u001b[0moriginal_image\u001b[0m \u001b[1;33m+\u001b[0m \u001b[0moriginal_image\u001b[0m\u001b[1;33m\u001b[0m\u001b[0m\n",
      "\u001b[1;31mAttributeError\u001b[0m: 'NoneType' object has no attribute 'shape'"
     ]
    }
   ],
   "source": [
    "import cv2\n",
    "import numpy as np\n",
    "original_image = cv2.imread(\"./Images/Inputs/Baron Schwartz.png\")\n",
    "print('Original Image  Shape : ', original_image.shape)\n",
    "\n",
    "new_image1 = original_image + original_image\n",
    "print('New Image  Shape (old image + old image): ', new_image1.shape)\n",
    "cv2.imshow('New Image (Added two times) ',new_image1)\n",
    "if cv2.waitKey() & 0xff == 27: quit()\n",
    "    \n",
    "new_image2 = original_image + original_image + original_image\n",
    "print('New Image  Shape (old image + old image + original_image): ', new_image2.shape)\n",
    "cv2.imshow('New Image (Added two times) ',new_image2)\n",
    "if cv2.waitKey() & 0xff == 27: quit()\n",
    "\n",
    "new_image3 = np.concatenate((original_image, new_image1, new_image2), axis=0)\n",
    "print('New Image 3 Shape: ', new_image3.shape)\n",
    "cv2.imshow('New Image 3',new_image3)\n",
    "if cv2.waitKey() & 0xff == 27: quit()"
   ]
  },
  {
   "cell_type": "code",
   "execution_count": 19,
   "metadata": {},
   "outputs": [
    {
     "ename": "FileNotFoundError",
     "evalue": "[Errno 2] No such file or directory: './Images/Inputs/Baron Schwartz.png'",
     "output_type": "error",
     "traceback": [
      "\u001b[1;31m---------------------------------------------------------------------------\u001b[0m",
      "\u001b[1;31mFileNotFoundError\u001b[0m                         Traceback (most recent call last)",
      "\u001b[1;32m<ipython-input-19-2598fe8ca650>\u001b[0m in \u001b[0;36m<module>\u001b[1;34m()\u001b[0m\n\u001b[0;32m      3\u001b[0m \u001b[1;32mfrom\u001b[0m \u001b[0mPIL\u001b[0m \u001b[1;32mimport\u001b[0m \u001b[0mImage\u001b[0m\u001b[1;33m\u001b[0m\u001b[0m\n\u001b[0;32m      4\u001b[0m \u001b[1;33m\u001b[0m\u001b[0m\n\u001b[1;32m----> 5\u001b[1;33m \u001b[0mpil_image\u001b[0m \u001b[1;33m=\u001b[0m \u001b[0mImage\u001b[0m\u001b[1;33m.\u001b[0m\u001b[0mopen\u001b[0m\u001b[1;33m(\u001b[0m\u001b[1;34m\"./Images/Inputs/Baron Schwartz.png\"\u001b[0m\u001b[1;33m)\u001b[0m\u001b[1;33m\u001b[0m\u001b[0m\n\u001b[0m\u001b[0;32m      6\u001b[0m \u001b[0mprint\u001b[0m\u001b[1;33m(\u001b[0m\u001b[0mtype\u001b[0m\u001b[1;33m(\u001b[0m\u001b[0mpil_image\u001b[0m\u001b[1;33m)\u001b[0m\u001b[1;33m)\u001b[0m\u001b[1;33m\u001b[0m\u001b[0m\n\u001b[0;32m      7\u001b[0m \u001b[1;33m\u001b[0m\u001b[0m\n",
      "\u001b[1;32mC:\\ProgramData\\Anaconda3\\lib\\site-packages\\PIL\\Image.py\u001b[0m in \u001b[0;36mopen\u001b[1;34m(fp, mode)\u001b[0m\n\u001b[0;32m   2408\u001b[0m \u001b[1;33m\u001b[0m\u001b[0m\n\u001b[0;32m   2409\u001b[0m     \u001b[1;32mif\u001b[0m \u001b[0mfilename\u001b[0m\u001b[1;33m:\u001b[0m\u001b[1;33m\u001b[0m\u001b[0m\n\u001b[1;32m-> 2410\u001b[1;33m         \u001b[0mfp\u001b[0m \u001b[1;33m=\u001b[0m \u001b[0mbuiltins\u001b[0m\u001b[1;33m.\u001b[0m\u001b[0mopen\u001b[0m\u001b[1;33m(\u001b[0m\u001b[0mfilename\u001b[0m\u001b[1;33m,\u001b[0m \u001b[1;34m\"rb\"\u001b[0m\u001b[1;33m)\u001b[0m\u001b[1;33m\u001b[0m\u001b[0m\n\u001b[0m\u001b[0;32m   2411\u001b[0m         \u001b[0mexclusive_fp\u001b[0m \u001b[1;33m=\u001b[0m \u001b[1;32mTrue\u001b[0m\u001b[1;33m\u001b[0m\u001b[0m\n\u001b[0;32m   2412\u001b[0m \u001b[1;33m\u001b[0m\u001b[0m\n",
      "\u001b[1;31mFileNotFoundError\u001b[0m: [Errno 2] No such file or directory: './Images/Inputs/Baron Schwartz.png'"
     ]
    }
   ],
   "source": [
    "# Demonstrate Usage of PIL\n",
    "# Save image in different formats\n",
    "from PIL import Image\n",
    "\n",
    "pil_image = Image.open(\"./Images/Inputs/Baron Schwartz.png\")\n",
    "print(type(pil_image))\n",
    "\n",
    "imgSize = pil_image.size\n",
    "rawData = pil_image.tobytes()\n",
    "print(type(rawData))\n",
    "\n",
    "img = Image.frombytes('L', imgSize, rawData)\n",
    "img.save('./Images/Outputs/Baron Schwartz PIL lmode.png')\n",
    "img = Image.frombytes('RGB', imgSize, rawData)\n",
    "img.save('./Images/Outputs/Baron Schwartz PIL rgbmode.png')\n",
    "img = Image.frombytes('RGBX', imgSize, rawData)\n",
    "img.save('./Images/Outputs/Baron Schwartz PIL rgbxmode.jfif')\n",
    "img = Image.frombytes('RGBA', imgSize, rawData)\n",
    "img.save('./Images/Outputs/Baron Schwartz PIL rgbamode.png')\n",
    "img = Image.frombytes('CMYK', imgSize, rawData)\n",
    "img.save('./Images/Outputs/Baron Schwartz PIL CMYK tiff.tiff')"
   ]
  },
  {
   "cell_type": "code",
   "execution_count": null,
   "metadata": {
    "collapsed": true
   },
   "outputs": [],
   "source": [
    "# RGB vs BGR while reading image\n",
    "# OpenCV represents RGB images as multi-dimensional NumPy arrays, but in reverse order (BGR)\n",
    "# View image inline one after another\n",
    "\n",
    "import matplotlib.pyplot as plt\n",
    "import matplotlib.image as mpimg\n",
    "image = mpimg.imread(\"./Images/Inputs/Cat.jpg\")\n",
    "plt.axis(\"off\")\n",
    "plt.imshow(image)\n",
    "plt.show()\n",
    "\n",
    "import cv2\n",
    "image = cv2.imread(\"./Images/Inputs/Cat.jpg\")\n",
    "plt.axis(\"off\")\n",
    "plt.imshow(image)\n",
    "plt.show()\n",
    "\n",
    "# Why the difference between inline and popup in display?\n",
    "cv2.imshow('BGR Cat or RGB Cat?',image)\n",
    "if cv2.waitKey() & 0xff == 27: quit()"
   ]
  },
  {
   "cell_type": "code",
   "execution_count": null,
   "metadata": {
    "collapsed": true
   },
   "outputs": [],
   "source": [
    "# Display images side by side\n",
    "# Create a white image of same size to seperate the images\n",
    "\n",
    "from io import BytesIO\n",
    "from PIL import Image\n",
    "\n",
    "import matplotlib.pyplot as plt\n",
    "import matplotlib.image as mpimg\n",
    "cat1 = mpimg.imread(\"./Images/Inputs/Cat.jpg\")\n",
    "\n",
    "import cv2\n",
    "cat2 = cv2.imread(\"./Images/Inputs/Cat.jpg\")\n",
    "print(cat2.shape)\n",
    "\n",
    "import numpy as np\n",
    "white_img = np.zeros(cat1.shape, dtype=np.uint8)\n",
    "white_img.fill(255) # or img[:] = 255\n",
    "\n",
    "plot_image = np.concatenate((cat1, white_img, cat2), axis=1)\n",
    "#plt.axis(\"off\")\n",
    "plt.imshow(plot_image)"
   ]
  },
  {
   "cell_type": "code",
   "execution_count": null,
   "metadata": {
    "collapsed": true
   },
   "outputs": [],
   "source": [
    "# Convert BGR to RGB in CV2\n",
    "# Use shortcut notation [:,:,::-1]\n",
    "\n",
    "import matplotlib.pyplot as plt\n",
    "import cv2\n",
    "cat1 = cv2.imread(\"./Images/Inputs/Cat.jpg\")\n",
    "print(cat2.shape)\n",
    "\n",
    "cat2 = cv2.cvtColor(cat1, cv2.COLOR_BGR2RGB)\n",
    "print(cat2.shape)\n",
    "\n",
    "cat3 = cat1[:,:,::-1]\n",
    "print(cat3.shape)\n",
    "\n",
    "import numpy as np\n",
    "white_img = np.zeros(cat1.shape, dtype=np.uint8)\n",
    "white_img.fill(255) # or img[:] = 255\n",
    "\n",
    "plot_image = np.concatenate((cat1, white_img, cat2, white_img, cat3), axis=1)\n",
    "print(plot_image.shape)\n",
    "#plt.axis(\"off\")\n",
    "plt.imshow(plot_image)"
   ]
  },
  {
   "cell_type": "code",
   "execution_count": null,
   "metadata": {
    "collapsed": true
   },
   "outputs": [],
   "source": [
    "# How about images from an URL instead from your computer?\n",
    "# HTTPError: HTTP Error 403: Forbidden when header is not passed\n",
    "import cv2\n",
    "import urllib.request\n",
    "import numpy as np\n",
    "import matplotlib.pyplot as plt\n",
    "\n",
    "url_address = \"http://www.cucumberpress.com/wp-content/uploads/2017/07/Images-Free-Cat-Images-44-With-Additional-For-Kids-with-Free-Cat-Images.jpg\"\n",
    "headers={'User-Agent': 'Mozilla/5.0 (X11; Linux x86_64) AppleWebKit/537.11 (KHTML, like Gecko) Chrome/23.0.1271.64 Safari/537.11',\n",
    "   'Accept': 'text/html,application/xhtml+xml,application/xml;q=0.9,*/*;q=0.8',\n",
    "   'Accept-Charset': 'ISO-8859-1,utf-8;q=0.7,*;q=0.3',\n",
    "   'Accept-Encoding': 'none',\n",
    "   'Accept-Language': 'en-US,en;q=0.8',\n",
    "   'Connection': 'keep-alive'}\n",
    "\n",
    "request_=urllib.request.Request(url_address, None, headers) #The assembled request\n",
    "response = urllib.request.urlopen(request_)# store the response\n",
    "\n",
    "arr = np.asarray(bytearray(response.read()), dtype=np.uint8)\n",
    "print(type(arr), arr.shape)\n",
    "img = cv2.imdecode(arr,-1) # 'load it as it is'\n",
    "print(type(img), img.shape)\n",
    "\n",
    "plt.imshow(img)"
   ]
  },
  {
   "cell_type": "code",
   "execution_count": null,
   "metadata": {
    "collapsed": true
   },
   "outputs": [],
   "source": [
    "# How about images from an URL instead from your computer?\n",
    "import cv2\n",
    "import urllib.request\n",
    "import numpy as np\n",
    "import matplotlib.pyplot as plt\n",
    "\n",
    "# This image can be accessed without HTTP headers\n",
    "# Ensure you have internet connection since it is downloaded when executed\n",
    "req = urllib.request.urlopen('http://answers.opencv.org/upfiles/logo_2.png')\n",
    "arr = np.asarray(bytearray(req.read()), dtype=np.uint8)\n",
    "print(type(arr), arr.shape)\n",
    "img_bgra = cv2.imdecode(arr,-1) # 'load it as it is'\n",
    "print('Image BGRA type and shape: ', type(img_bgra), img_bgra.shape)\n",
    "\n",
    "img_bgr = img_bgra[:,:,0:3]\n",
    "print('Image BGR type and shape: ', type(img_bgr), img_bgr.shape)\n",
    "\n",
    "img_rgb = cv2.cvtColor(img_bgr, cv2.COLOR_BGR2RGB)\n",
    "print('Image RGB type and shape: ', type(img_rgb), img_rgb.shape)\n",
    "\n",
    "plot_image = np.concatenate((img_bgr, img_rgb), axis=1)\n",
    "plt.imshow(plot_image)"
   ]
  },
  {
   "cell_type": "code",
   "execution_count": null,
   "metadata": {
    "collapsed": true
   },
   "outputs": [],
   "source": [
    "import PIL.Image\n",
    "from io import BytesIO\n",
    "import IPython.display\n",
    "import numpy as np\n",
    "\n",
    "def showarray(a, fmt='png'):\n",
    "    a = np.uint8(a)\n",
    "    f = BytesIO()\n",
    "    PIL.Image.fromarray(a).save(f, fmt)\n",
    "    IPython.display.display(IPython.display.Image(data=f.getvalue()))\n",
    "\n",
    "import matplotlib.pyplot as plt\n",
    "import matplotlib.image as mpimg\n",
    "cat1 = mpimg.imread(\"./Images/Inputs/Cat.jpg\")\n",
    "\n",
    "import cv2\n",
    "cat2 = cv2.imread(\"./Images/Inputs/Cat.jpg\")\n",
    "\n",
    "np_images = [ cat1, cat2 ]\n",
    "for ima in np_images:\n",
    "    showarray(ima)"
   ]
  },
  {
   "cell_type": "code",
   "execution_count": null,
   "metadata": {
    "collapsed": true
   },
   "outputs": [],
   "source": [
    "# Draw color histogram of the image\n",
    "\n",
    "import cv2\n",
    "import numpy as np\n",
    "from matplotlib import pyplot as plt\n",
    "\n",
    "image = cv2.imread(\"./Images/Inputs/Cat.jpg\")\n",
    "color = ('b','g','r')\n",
    "plt.figure()\n",
    "for i,col in enumerate(color):\n",
    "    histr = cv2.calcHist([image],[i],None,[256],[0,256])\n",
    "    plt.plot(histr,color = col)\n",
    "    plt.xlim([0,256])\n",
    "plt.show()"
   ]
  },
  {
   "cell_type": "code",
   "execution_count": null,
   "metadata": {
    "collapsed": true
   },
   "outputs": [],
   "source": [
    "# Try assigning zero values to Blue, Green, & Red to see what is happening\n",
    "import cv2\n",
    "import numpy as np\n",
    "from matplotlib import pyplot as plt\n",
    "\n",
    "# Method taken from https://gist.github.com/soply/f3eec2e79c165e39c9d540e916142ae1\n",
    "def show_images(images, cols = 1, titles = None):\n",
    "    \"\"\"Display a list of images in a single figure with matplotlib.\n",
    "    \n",
    "    Parameters\n",
    "    ---------\n",
    "    images: List of np.arrays compatible with plt.imshow.\n",
    "\n",
    "    cols (Default = 1): Number of columns in figure (number of rows is \n",
    "                        set to np.ceil(n_images/float(cols))).\n",
    " \n",
    "    titles: List of titles corresponding to each image. Must have\n",
    "            the same length as titles.\n",
    "    \"\"\"\n",
    "    assert((titles is None)or (len(images) == len(titles)))\n",
    "    n_images = len(images)\n",
    "    if titles is None: titles = ['Image (%d)' % i for i in range(1,n_images + 1)]\n",
    "    fig = plt.figure()\n",
    "    for n, (image, title) in enumerate(zip(images, titles)):\n",
    "        a = fig.add_subplot(cols, np.ceil(n_images/float(cols)), n + 1)\n",
    "        if image.ndim == 2:\n",
    "            plt.gray()\n",
    "        plt.imshow(image)\n",
    "        a.set_title(title)\n",
    "    fig.set_size_inches(np.array(fig.get_size_inches()) * n_images)\n",
    "    plt.show()\n",
    "\n",
    "original_image = cv2.imread(\"./Images/Inputs/Cat.jpg\")\n",
    "\n",
    "blue_initialized_image = cv2.imread(\"./Images/Inputs/Cat.jpg\")\n",
    "# Make all the values in Blue to Zeros\n",
    "blue_initialized_image[:,:,0] = 0\n",
    "\n",
    "green_initialized_image = cv2.imread(\"./Images/Inputs/Cat.jpg\")\n",
    "# Make all the values in Green to Zeros\n",
    "green_initialized_image[:,:,1] = 0\n",
    "\n",
    "red_initialized_image = cv2.imread(\"./Images/Inputs/Cat.jpg\")\n",
    "# Make all the values in Red to Zeros\n",
    "red_initialized_image[:,:,2] = 0\n",
    "\n",
    "black_image = cv2.imread(\"./Images/Inputs/Cat.jpg\")\n",
    "black_image[:,:,0] = 0 # Make Blue Zeros\n",
    "black_image[:,:,1] = 0 # Make Green Zeros\n",
    "black_image[:,:,2] = 0 # Make Red Zeros\n",
    "\n",
    "# Make RGB values as Zeros\n",
    "show_images([original_image, blue_initialized_image, green_initialized_image, red_initialized_image, black_image])"
   ]
  },
  {
   "cell_type": "code",
   "execution_count": null,
   "metadata": {
    "collapsed": true
   },
   "outputs": [],
   "source": []
  },
  {
   "cell_type": "code",
   "execution_count": null,
   "metadata": {
    "collapsed": true
   },
   "outputs": [],
   "source": []
  }
 ],
 "metadata": {
  "kernelspec": {
   "display_name": "Python 3",
   "language": "python",
   "name": "python3"
  },
  "language_info": {
   "codemirror_mode": {
    "name": "ipython",
    "version": 3
   },
   "file_extension": ".py",
   "mimetype": "text/x-python",
   "name": "python",
   "nbconvert_exporter": "python",
   "pygments_lexer": "ipython3",
   "version": "3.6.3"
  }
 },
 "nbformat": 4,
 "nbformat_minor": 2
}
