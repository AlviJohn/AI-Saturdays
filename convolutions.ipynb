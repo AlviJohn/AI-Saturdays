{
 "cells": [
  {
   "cell_type": "code",
   "execution_count": 1,
   "metadata": {
    "collapsed": true
   },
   "outputs": [],
   "source": [
    "import numpy as np \n",
    "import cv2"
   ]
  },
  {
   "cell_type": "code",
   "execution_count": 2,
   "metadata": {
    "collapsed": true
   },
   "outputs": [],
   "source": [
    "image = cv2.imread(\"duke.JPG\")"
   ]
  },
  {
   "cell_type": "code",
   "execution_count": null,
   "metadata": {
    "collapsed": true
   },
   "outputs": [],
   "source": [
    "\n",
    "laplacian = np.array((\n",
    "[0, 1, 0],\n",
    "[1, -4, 1],\n",
    "[0, 1, 0]), dtype=\"int\") #used for blur detection\n",
    " \n",
    "opencvOutput = cv2.filter2D(image, -1, laplacian)\n",
    "cv2.imshow(\"{} - opencv\".format(\"laplacian\"), opencvOutput)\n",
    "if cv2.waitKey() & 0xff == 27: quit()\n"
   ]
  },
  {
   "cell_type": "code",
   "execution_count": 18,
   "metadata": {
    "collapsed": true
   },
   "outputs": [],
   "source": [
    "sobelX = np.array((\n",
    "[-1, 0, 1],\n",
    "[-2, 0, 2],\n",
    "[-1, 0, 1]), dtype=\"int\") #\n",
    "\n",
    "opencvOutput = cv2.filter2D(image, -1, sobelX)\n",
    "cv2.imshow(\"{} - opencv\".format(\"sobel_x\"), opencvOutput)\n",
    "if cv2.waitKey() & 0xff == 27: quit()\n",
    " "
   ]
  },
  {
   "cell_type": "code",
   "execution_count": 15,
   "metadata": {
    "collapsed": true
   },
   "outputs": [],
   "source": [
    "sobelY = np.array((\n",
    "[-1, -2, -1],\n",
    "[0, 0, 0],\n",
    "[1, 2, 1]), dtype=\"int\")\n",
    "\n",
    "opencvOutput = cv2.filter2D(image, -1, sobelY)\n",
    "cv2.imshow(\"{} - opencv\".format(\"sobel_y\"), opencvOutput)\n",
    "if cv2.waitKey() & 0xff == 27: quit()"
   ]
  },
  {
   "cell_type": "code",
   "execution_count": 17,
   "metadata": {
    "collapsed": true
   },
   "outputs": [],
   "source": [
    "\n",
    "sharpen = np.array((\n",
    "[0, -1, 0],\n",
    "[-1, 5, -1],\n",
    "[0, -1, 0]), dtype=\"int\")\n",
    "\n",
    "opencvOutput = cv2.filter2D(image, -1, sharpen)\n",
    "cv2.imshow(\"{} - opencv\".format(\"sharpen\"), opencvOutput)\n",
    "if cv2.waitKey() & 0xff == 27: quit()"
   ]
  },
  {
   "cell_type": "code",
   "execution_count": 7,
   "metadata": {
    "collapsed": true
   },
   "outputs": [],
   "source": [
    "smallBlur = np.ones((7, 7), dtype=\"float\") * (1.0 / (7 * 7))\n",
    "\n",
    "opencvOutput = cv2.filter2D(image, -1, smallBlur)\n",
    "cv2.imshow(\"{} - opencv\".format(\"smallBlur\"), opencvOutput)\n",
    "if cv2.waitKey() & 0xff == 27: quit()"
   ]
  },
  {
   "cell_type": "code",
   "execution_count": 8,
   "metadata": {
    "collapsed": true
   },
   "outputs": [],
   "source": [
    "largeBlur = np.ones((21, 21), dtype=\"float\") * (1.0 / (21 * 21))\n",
    "\n",
    "opencvOutput = cv2.filter2D(image, -1, largeBlur)\n",
    "cv2.imshow(\"{} - opencv\".format(\"largeBlur\"), opencvOutput)\n",
    "if cv2.waitKey() & 0xff == 27: quit()"
   ]
  },
  {
   "cell_type": "code",
   "execution_count": 9,
   "metadata": {
    "collapsed": true
   },
   "outputs": [],
   "source": [
    "laplacian = cv2.Laplacian(image,16)\n",
    "cv2.imshow(\"laplacian\", laplacian)\n",
    "if cv2.waitKey() & 0xff == 27: quit()"
   ]
  },
  {
   "cell_type": "code",
   "execution_count": 10,
   "metadata": {
    "collapsed": true
   },
   "outputs": [],
   "source": [
    "bilateralfilter = cv2.bilateralFilter(image,10,150,cv2.CV_32F)\n",
    "cv2.imshow(\"bilateralfilter\", bilateralfilter)\n",
    "if cv2.waitKey() & 0xff == 27: quit()"
   ]
  },
  {
   "cell_type": "code",
   "execution_count": 11,
   "metadata": {},
   "outputs": [
    {
     "ename": "AttributeError",
     "evalue": "module 'cv2' has no attribute 'adaptiveBilateralFilter'",
     "output_type": "error",
     "traceback": [
      "\u001b[1;31m---------------------------------------------------------------------------\u001b[0m",
      "\u001b[1;31mAttributeError\u001b[0m                            Traceback (most recent call last)",
      "\u001b[1;32m<ipython-input-11-0759cc0c36e5>\u001b[0m in \u001b[0;36m<module>\u001b[1;34m()\u001b[0m\n\u001b[1;32m----> 1\u001b[1;33m \u001b[0madaptivebilateralfilter\u001b[0m \u001b[1;33m=\u001b[0m \u001b[0mcv2\u001b[0m\u001b[1;33m.\u001b[0m\u001b[0madaptiveBilateralFilter\u001b[0m\u001b[1;33m(\u001b[0m\u001b[0mimage\u001b[0m\u001b[1;33m,\u001b[0m\u001b[1;36m10\u001b[0m\u001b[1;33m,\u001b[0m\u001b[1;36m150\u001b[0m\u001b[1;33m,\u001b[0m\u001b[0mcv2\u001b[0m\u001b[1;33m.\u001b[0m\u001b[0mCV_8U\u001b[0m\u001b[1;33m)\u001b[0m \u001b[1;31m#needs correction\u001b[0m\u001b[1;33m\u001b[0m\u001b[0m\n\u001b[0m\u001b[0;32m      2\u001b[0m \u001b[0mcv2\u001b[0m\u001b[1;33m.\u001b[0m\u001b[0mimshow\u001b[0m\u001b[1;33m(\u001b[0m\u001b[1;34m\"bilateralfilter\"\u001b[0m\u001b[1;33m,\u001b[0m \u001b[0madaptivebilateralfilter\u001b[0m\u001b[1;33m)\u001b[0m\u001b[1;33m\u001b[0m\u001b[0m\n\u001b[0;32m      3\u001b[0m \u001b[1;32mif\u001b[0m \u001b[0mcv2\u001b[0m\u001b[1;33m.\u001b[0m\u001b[0mwaitKey\u001b[0m\u001b[1;33m(\u001b[0m\u001b[1;33m)\u001b[0m \u001b[1;33m&\u001b[0m \u001b[1;36m0xff\u001b[0m \u001b[1;33m==\u001b[0m \u001b[1;36m27\u001b[0m\u001b[1;33m:\u001b[0m \u001b[0mquit\u001b[0m\u001b[1;33m(\u001b[0m\u001b[1;33m)\u001b[0m\u001b[1;33m\u001b[0m\u001b[0m\n",
      "\u001b[1;31mAttributeError\u001b[0m: module 'cv2' has no attribute 'adaptiveBilateralFilter'"
     ]
    }
   ],
   "source": [
    "adaptivebilateralfilter = cv2.adaptiveBilateralFilter(image,10,150,cv2.CV_8U) #needs correction\n",
    "cv2.imshow(\"bilateralfilter\", adaptivebilateralfilter)\n",
    "if cv2.waitKey() & 0xff == 27: quit()"
   ]
  },
  {
   "cell_type": "code",
   "execution_count": null,
   "metadata": {},
   "outputs": [],
   "source": [
    "inter = cv2.borderInterpolate(0,3,101) #needs more looking into\n",
    "print(inter)\n",
    "cv2.imshow(\"borderInterpolate\", inter)\n",
    "if cv2.waitKey() & 0xff == 27: quit()"
   ]
  },
  {
   "cell_type": "code",
   "execution_count": null,
   "metadata": {
    "collapsed": true
   },
   "outputs": [],
   "source": [
    "blur = cv2.blur(image, (15,15))\n",
    "cv2.imshow(\"blur\", blur)\n",
    "if cv2.waitKey() & 0xff == 27: quit()"
   ]
  },
  {
   "cell_type": "code",
   "execution_count": null,
   "metadata": {
    "collapsed": true
   },
   "outputs": [],
   "source": [
    "boxfilter = cv2.boxFilter(image,8,(3,3)) #discuss the second argument\n",
    "cv2.imshow(\"boxfilter\", boxfilter)\n",
    "if cv2.waitKey() & 0xff == 27: quit()"
   ]
  },
  {
   "cell_type": "code",
   "execution_count": null,
   "metadata": {
    "collapsed": true
   },
   "outputs": [],
   "source": [
    "build pyramid , is this a kernel ? saw this in a blog"
   ]
  },
  {
   "cell_type": "code",
   "execution_count": null,
   "metadata": {
    "collapsed": true
   },
   "outputs": [],
   "source": [
    "bordermake = cv2.copyMakeBorder(image,50,50,50,50,cv2.BORDER_REPLICATE)\n",
    "cv2.imshow(\"bordermake\", bordermake)\n",
    "if cv2.waitKey() & 0xff == 27: quit()"
   ]
  },
  {
   "cell_type": "code",
   "execution_count": null,
   "metadata": {
    "collapsed": true
   },
   "outputs": [],
   "source": [
    "dilate = cv2.dilate(image, np.ones((3,3)))\n",
    "cv2.imshow(\"dilate\", dilate)\n",
    "if cv2.waitKey() & 0xff == 27: quit()"
   ]
  },
  {
   "cell_type": "code",
   "execution_count": null,
   "metadata": {
    "collapsed": true
   },
   "outputs": [],
   "source": [
    "erode = cv2.erode(image, np.ones((3,3)))\n",
    "\n",
    "cv2.imshow(\"erode\", erode)\n",
    "if cv2.waitKey() & 0xff == 27: quit()"
   ]
  },
  {
   "cell_type": "code",
   "execution_count": null,
   "metadata": {
    "collapsed": true
   },
   "outputs": [],
   "source": [
    "ker = np.array(([1,0,0],\n",
    "              [0,1,0],\n",
    "              [0,0,1]),dtype = \"int\")\n",
    "\n",
    "filter2d = cv2.filter2D(image,-1,ker) #filter 2d used to apply convolutions\n",
    "cv2.imshow(\"filter2d\", filter2d)\n",
    "if cv2.waitKey() & 0xff == 27: quit()"
   ]
  },
  {
   "cell_type": "code",
   "execution_count": null,
   "metadata": {
    "collapsed": true
   },
   "outputs": [],
   "source": [
    "gauss = cv2.GaussianBlur(image, (9,9), 0)\n",
    "cv2.imshow(\"gauss\", gauss)\n",
    "if cv2.waitKey() & 0xff == 27: quit()"
   ]
  },
  {
   "cell_type": "code",
   "execution_count": null,
   "metadata": {
    "collapsed": true
   },
   "outputs": [],
   "source": [
    "cv2.getDerivKernels(dx, dy, ksize\n",
    "cv2.getGaussianKernel"
   ]
  },
  {
   "cell_type": "code",
   "execution_count": null,
   "metadata": {
    "collapsed": true
   },
   "outputs": [],
   "source": [
    "medblur = cv2.medianBlur(image, 3) \n",
    "cv2.imshow(\"medblur\", medblur)\n",
    "if cv2.waitKey() & 0xff == 27: quit()"
   ]
  },
  {
   "cell_type": "code",
   "execution_count": null,
   "metadata": {
    "collapsed": true
   },
   "outputs": [],
   "source": [
    "morph = cv2.morphologyEx(image,cv2.THRESH_BINARY, np.ones((3,3)))   \n",
    "# MORPH_OPEN , MORPH_CLOSE , MORPH_ELLIPSE , MORPH_RECT ,MORPH_GRADIENT , MORPH_RECT , THRESH_BINARY plus many more\n",
    "cv2.imshow(\"morph\", morph)\n",
    "if cv2.waitKey() & 0xff == 27: quit()"
   ]
  },
  {
   "cell_type": "code",
   "execution_count": null,
   "metadata": {
    "collapsed": true
   },
   "outputs": [],
   "source": []
  },
  {
   "cell_type": "code",
   "execution_count": null,
   "metadata": {
    "collapsed": true
   },
   "outputs": [],
   "source": []
  }
 ],
 "metadata": {
  "kernelspec": {
   "display_name": "Python 3",
   "language": "python",
   "name": "python3"
  },
  "language_info": {
   "codemirror_mode": {
    "name": "ipython",
    "version": 3
   },
   "file_extension": ".py",
   "mimetype": "text/x-python",
   "name": "python",
   "nbconvert_exporter": "python",
   "pygments_lexer": "ipython3",
   "version": "3.6.3"
  }
 },
 "nbformat": 4,
 "nbformat_minor": 2
}
